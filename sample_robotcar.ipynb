{
 "cells": [
  {
   "cell_type": "code",
   "execution_count": 78,
   "metadata": {},
   "outputs": [],
   "source": [
    "from pathlib import Path\n",
    "import pandas as pd"
   ]
  },
  {
   "cell_type": "code",
   "execution_count": 85,
   "metadata": {},
   "outputs": [],
   "source": [
    "def get_groups(all_groups, N_GROUPS=9):\n",
    "    \n",
    "    n_tracks_per_group = len(all_groups) // N_GROUPS\n",
    "    groups = []\n",
    "    \n",
    "    for cur_group_ind in range(N_GROUPS):\n",
    "        if cur_group_ind == N_GROUPS - 1:\n",
    "            group = all_groups[n_tracks_per_group * cur_group_ind :]\n",
    "        else:\n",
    "            group = all_groups[n_tracks_per_group * cur_group_ind : n_tracks_per_group * (cur_group_ind + 1) ]\n",
    "            \n",
    "        groups.append(group)\n",
    "        \n",
    "    return groups    \n",
    "\n",
    "# sanity check\n",
    "# a = list(range(45))\n",
    "# groups = get_groups(a)\n",
    "# set(sum(groups, [])) == set(a), len(sum(groups, [])) == len(a)\n",
    "# groups\n",
    "\n",
    "def get_all_tracks(robotcar_root):\n",
    "    all_tracks = [i for i in robotcar_root.iterdir() if i.is_dir()]\n",
    "    all_tracks = sorted(all_tracks)\n",
    "    return all_tracks"
   ]
  },
  {
   "cell_type": "code",
   "execution_count": 121,
   "metadata": {},
   "outputs": [],
   "source": [
    "cur_group = 1\n",
    "\n",
    "robotcar_root = Path(\"/home/docker_current/datasets/pnvlad_oxford_robotcar_full\")\n",
    "descriptions_root = Path(\"/home/docker_current/MiniGPT-4/robotcar_descr\")\n",
    "\n",
    "large_images_folder = \"images_large\"\n",
    "cameras = [\"mono_right\", \"mono_left\", \"stereo_centre\", \"mono_rear\"]\n",
    "\n",
    "if not descriptions_root.is_dir():\n",
    "    descriptions_root.mkdir()\n",
    "    \n",
    "all_tracks = get_all_tracks(robotcar_root)\n",
    "groups = get_groups(all_tracks)"
   ]
  },
  {
   "cell_type": "code",
   "execution_count": 122,
   "metadata": {},
   "outputs": [],
   "source": [
    "cur_tracks = groups[cur_group]"
   ]
  },
  {
   "cell_type": "code",
   "execution_count": 123,
   "metadata": {},
   "outputs": [],
   "source": [
    "for track in cur_tracks:\n",
    "    trackname = str(track).split(\"/\")[-1]\n",
    "    \n",
    "    if not (descriptions_root / trackname).is_dir():\n",
    "        (descriptions_root / trackname).mkdir()\n",
    "    \n",
    "    if not (descriptions_root / trackname / \"descriptions\").is_dir():\n",
    "        (descriptions_root / trackname / \"descriptions\").mkdir()\n",
    "        \n",
    "    for cam in cameras:\n",
    "        image_paths = []\n",
    "        descriptions = []\n",
    "        \n",
    "        imgages_path = track / large_images_folder / cam\n",
    "        \n",
    "        for img_path in imgages_path.iterdir():\n",
    "            # description = pred_description(img_path, chat)\n",
    "            description = \"it's description\"\n",
    "            image_paths.append(img_path)\n",
    "            descriptions.append(description)\n",
    "            \n",
    "        df_dict = {\"path\" : image_paths, \"description\" : descriptions}\n",
    "        df = pd.DataFrame(df_dict)\n",
    "        save_path = descriptions_root / trackname / \"descriptions\" / (cam + \".csv\")\n",
    "        df.to_csv(save_path, index=False)"
   ]
  },
  {
   "cell_type": "code",
   "execution_count": null,
   "metadata": {},
   "outputs": [],
   "source": []
  }
 ],
 "metadata": {
  "kernelspec": {
   "display_name": "minigptv",
   "language": "python",
   "name": "python3"
  },
  "language_info": {
   "codemirror_mode": {
    "name": "ipython",
    "version": 3
   },
   "file_extension": ".py",
   "mimetype": "text/x-python",
   "name": "python",
   "nbconvert_exporter": "python",
   "pygments_lexer": "ipython3",
   "version": "3.9.18"
  }
 },
 "nbformat": 4,
 "nbformat_minor": 2
}
